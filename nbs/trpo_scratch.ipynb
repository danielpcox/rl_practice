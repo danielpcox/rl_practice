{
 "cells": [
  {
   "cell_type": "code",
   "execution_count": 37,
   "id": "32e78855",
   "metadata": {
    "pycharm": {
     "name": "#%%\n"
    }
   },
   "outputs": [],
   "source": [
    "import torch\n",
    "from torch import autograd\n",
    "from torch.distributions import Normal, MultivariateNormal, Independent\n",
    "from torch.distributions.kl import kl_divergence"
   ]
  },
  {
   "cell_type": "code",
   "execution_count": 10,
   "id": "333bd179",
   "metadata": {
    "pycharm": {
     "name": "#%%\n"
    }
   },
   "outputs": [
    {
     "data": {
      "text/plain": [
       "tensor([[1., 0., 0.],\n",
       "        [0., 1., 0.],\n",
       "        [0., 0., 1.]])"
      ]
     },
     "execution_count": 10,
     "metadata": {},
     "output_type": "execute_result"
    }
   ],
   "source": [
    "ones = torch.ones(3)\n",
    "torch.diag(ones)"
   ]
  },
  {
   "cell_type": "code",
   "execution_count": 11,
   "id": "127f7440",
   "metadata": {
    "pycharm": {
     "name": "#%%\n"
    }
   },
   "outputs": [
    {
     "name": "stdout",
     "output_type": "stream",
     "text": [
      "tensor([0., 0., 0.])\n",
      "tensor([1., 1., 1.])\n",
      "tensor([[1., 0., 0.],\n",
      "        [0., 1., 0.],\n",
      "        [0., 0., 1.]])\n"
     ]
    }
   ],
   "source": [
    "loc = torch.zeros(3)\n",
    "scale = torch.ones(3)\n",
    "print(loc)\n",
    "print(scale)\n",
    "print(torch.diag(scale))"
   ]
  },
  {
   "cell_type": "markdown",
   "id": "387db375",
   "metadata": {
    "pycharm": {
     "name": "#%% md\n"
    }
   },
   "source": [
    "## Experimenting with Independent"
   ]
  },
  {
   "cell_type": "markdown",
   "id": "f45b8329",
   "metadata": {
    "pycharm": {
     "name": "#%% md\n"
    }
   },
   "source": [
    "Independent \"Reinterprets some of the batch dims of a distribution as event dims.\""
   ]
  },
  {
   "cell_type": "code",
   "execution_count": 14,
   "id": "bc31d166",
   "metadata": {
    "pycharm": {
     "name": "#%%\n"
    }
   },
   "outputs": [],
   "source": [
    "mvn = MultivariateNormal(loc, scale_tril=torch.diag(scale))"
   ]
  },
  {
   "cell_type": "code",
   "execution_count": 18,
   "id": "b1170e01",
   "metadata": {
    "pycharm": {
     "name": "#%%\n"
    }
   },
   "outputs": [
    {
     "data": {
      "text/plain": [
       "[torch.Size([]), torch.Size([3])]"
      ]
     },
     "execution_count": 18,
     "metadata": {},
     "output_type": "execute_result"
    }
   ],
   "source": [
    "[mvn.batch_shape, mvn.event_shape]"
   ]
  },
  {
   "cell_type": "code",
   "execution_count": 19,
   "id": "4f0c880b",
   "metadata": {
    "pycharm": {
     "name": "#%%\n"
    }
   },
   "outputs": [
    {
     "data": {
      "text/plain": [
       "tensor([-0.3483, -0.8625, -0.6323])"
      ]
     },
     "execution_count": 19,
     "metadata": {},
     "output_type": "execute_result"
    }
   ],
   "source": [
    "mvn.sample()"
   ]
  },
  {
   "cell_type": "code",
   "execution_count": 20,
   "id": "ec259ca6",
   "metadata": {
    "pycharm": {
     "name": "#%%\n"
    }
   },
   "outputs": [],
   "source": [
    "normal = Normal(loc, scale)"
   ]
  },
  {
   "cell_type": "code",
   "execution_count": 21,
   "id": "a53e45c1",
   "metadata": {
    "pycharm": {
     "name": "#%%\n"
    }
   },
   "outputs": [
    {
     "data": {
      "text/plain": [
       "[torch.Size([3]), torch.Size([])]"
      ]
     },
     "execution_count": 21,
     "metadata": {},
     "output_type": "execute_result"
    }
   ],
   "source": [
    "[normal.batch_shape, normal.event_shape]"
   ]
  },
  {
   "cell_type": "code",
   "execution_count": 25,
   "id": "bbb49bd8",
   "metadata": {
    "pycharm": {
     "name": "#%%\n"
    }
   },
   "outputs": [
    {
     "data": {
      "text/plain": [
       "tensor([-0.5116, -0.3467,  0.3212])"
      ]
     },
     "execution_count": 25,
     "metadata": {},
     "output_type": "execute_result"
    }
   ],
   "source": [
    "normal.sample()"
   ]
  },
  {
   "cell_type": "markdown",
   "id": "d25366ff",
   "metadata": {
    "pycharm": {
     "name": "#%% md\n"
    }
   },
   "source": [
    "```\n",
    ">>> loc = torch.zeros(3)\n",
    ">>> scale = torch.ones(3)\n",
    ">>> mvn = MultivariateNormal(loc, scale_tril=torch.diag(scale))\n",
    ">>> [mvn.batch_shape, mvn.event_shape]\n",
    "[torch.Size(()), torch.Size((3,))]\n",
    ">>> normal = Normal(loc, scale)\n",
    ">>> [normal.batch_shape, normal.event_shape]\n",
    "[torch.Size((3,)), torch.Size(())]\n",
    ">>> diagn = Independent(normal, 1)\n",
    ">>> [diagn.batch_shape, diagn.event_shape]\n",
    "[torch.Size(()), torch.Size((3,))]\n",
    "```"
   ]
  },
  {
   "cell_type": "code",
   "execution_count": 33,
   "id": "e16bd648",
   "metadata": {
    "pycharm": {
     "name": "#%%\n"
    }
   },
   "outputs": [
    {
     "data": {
      "text/plain": [
       "[torch.Size([]), torch.Size([3])]"
      ]
     },
     "execution_count": 33,
     "metadata": {},
     "output_type": "execute_result"
    }
   ],
   "source": [
    "diagn = Independent(normal, 1)\n",
    "[diagn.batch_shape, diagn.event_shape]"
   ]
  },
  {
   "cell_type": "code",
   "execution_count": 34,
   "id": "de55eee1",
   "metadata": {
    "pycharm": {
     "name": "#%%\n"
    }
   },
   "outputs": [
    {
     "data": {
      "text/plain": [
       "tensor([ 1.9519, -0.9673,  0.1015])"
      ]
     },
     "execution_count": 34,
     "metadata": {},
     "output_type": "execute_result"
    }
   ],
   "source": [
    "diagn.sample()"
   ]
  },
  {
   "cell_type": "markdown",
   "id": "349484ad",
   "metadata": {
    "pycharm": {
     "name": "#%% md\n"
    }
   },
   "source": [
    "\"This is mainly useful for changing the shape of the result of log_prob.\""
   ]
  },
  {
   "cell_type": "code",
   "execution_count": 35,
   "id": "c4c1e65f",
   "metadata": {
    "pycharm": {
     "name": "#%%\n"
    }
   },
   "outputs": [
    {
     "data": {
      "text/plain": [
       "tensor([-0.9236, -1.2489, -1.6215])"
      ]
     },
     "execution_count": 35,
     "metadata": {},
     "output_type": "execute_result"
    }
   ],
   "source": [
    "normal.log_prob(normal.sample())"
   ]
  },
  {
   "cell_type": "code",
   "execution_count": 36,
   "id": "bf030aed",
   "metadata": {
    "pycharm": {
     "name": "#%%\n"
    }
   },
   "outputs": [
    {
     "data": {
      "text/plain": [
       "tensor(-3.1684)"
      ]
     },
     "execution_count": 36,
     "metadata": {},
     "output_type": "execute_result"
    }
   ],
   "source": [
    "diagn.log_prob(diagn.sample())"
   ]
  },
  {
   "cell_type": "markdown",
   "id": "8646d336",
   "metadata": {
    "pycharm": {
     "name": "#%% md\n"
    }
   },
   "source": [
    "## Autograd"
   ]
  },
  {
   "cell_type": "markdown",
   "id": "0b3a5e64",
   "metadata": {
    "pycharm": {
     "name": "#%% md\n"
    }
   },
   "source": [
    "```\n",
    "RuntimeError: element 0 of tensors does not require grad and does not have a grad_fn\n",
    "```"
   ]
  },
  {
   "cell_type": "code",
   "execution_count": 80,
   "id": "45dc185b",
   "metadata": {
    "pycharm": {
     "name": "#%%\n"
    }
   },
   "outputs": [
    {
     "data": {
      "text/plain": [
       "tensor([1., 2., 3.], requires_grad=True)"
      ]
     },
     "execution_count": 80,
     "metadata": {},
     "output_type": "execute_result"
    }
   ],
   "source": [
    "x = torch.tensor([1.,2.,3.], requires_grad=True)\n",
    "x"
   ]
  },
  {
   "cell_type": "markdown",
   "id": "b0daf50f",
   "metadata": {
    "pycharm": {
     "name": "#%% md\n"
    }
   },
   "source": [
    "```\n",
    "RuntimeError: grad can be implicitly created only for scalar outputs\n",
    "```"
   ]
  },
  {
   "cell_type": "code",
   "execution_count": 81,
   "id": "09a96d2f",
   "metadata": {
    "pycharm": {
     "name": "#%%\n"
    }
   },
   "outputs": [],
   "source": [
    "def f(x):\n",
    "    return (x**2).sum()"
   ]
  },
  {
   "cell_type": "markdown",
   "id": "6187bcec",
   "metadata": {
    "pycharm": {
     "name": "#%% md\n"
    }
   },
   "source": [
    "```\n",
    "df(x)/dx =\n",
    "[df(x1)/dx1, df(x2)/dx2, df(x3)/dx3] =\n",
    "[2*x1, 2*x2, 2*x3] =\n",
    "[2, 4, 6] =\n",
    "```"
   ]
  },
  {
   "cell_type": "code",
   "execution_count": 82,
   "id": "8abfc30c",
   "metadata": {
    "pycharm": {
     "name": "#%%\n"
    }
   },
   "outputs": [
    {
     "data": {
      "text/plain": [
       "(tensor([2., 4., 6.]),)"
      ]
     },
     "execution_count": 82,
     "metadata": {},
     "output_type": "execute_result"
    }
   ],
   "source": [
    "autograd.grad(f(x), x)"
   ]
  },
  {
   "cell_type": "markdown",
   "source": [
    "## Dotdict"
   ],
   "metadata": {
    "collapsed": false,
    "pycharm": {
     "name": "#%% md\n"
    }
   }
  },
  {
   "cell_type": "code",
   "execution_count": null,
   "outputs": [],
   "source": [
    "class dotdict(dict):\n",
    "    '''A dict with dot access and autocompletion.\n",
    "    \n",
    "    The idea and most of the code was taken from \n",
    "    http://stackoverflow.com/a/23689767,\n",
    "    http://code.activestate.com/recipes/52308-the-simple-but-handy-collector-of-a-bunch-of-named/\n",
    "    http://stackoverflow.com/questions/2390827/how-to-properly-subclass-dict-and-override-get-set\n",
    "    '''\n",
    "    \n",
    "    def __init__(self,*a,**kw):\n",
    "        dict.__init__(self)\n",
    "        self.update(*a, **kw)\n",
    "        self.__dict__ = self\n",
    "    \n",
    "    def __setattr__(self, key, value):\n",
    "        if key in dict.__dict__:\n",
    "            raise AttributeError('This key is reserved for the dict methods.')\n",
    "        dict.__setattr__(self, key, value)\n",
    "    \n",
    "    def __setitem__(self, key, value):\n",
    "        if key in dict.__dict__:\n",
    "            raise AttributeError('This key is reserved for the dict methods.')\n",
    "        dict.__setitem__(self, key, value)\n",
    "        \n",
    "    def update(self, *args, **kwargs):\n",
    "        for k, v in dict(*args, **kwargs).iteritems():\n",
    "            self[k] = v\n",
    "        \n",
    "    def __getstate__(self):\n",
    "        return self\n",
    " \n",
    "    def __setstate__(self, state):\n",
    "        self.update(state)\n",
    "        self.__dict__ = self"
   ],
   "metadata": {
    "collapsed": false,
    "pycharm": {
     "name": "#%%\n"
    }
   }
  },
  {
   "cell_type": "code",
   "execution_count": null,
   "outputs": [],
   "source": [
    "d = dotdict({'one':1})"
   ],
   "metadata": {
    "collapsed": false,
    "pycharm": {
     "name": "#%%\n"
    }
   }
  },
  {
   "cell_type": "code",
   "execution_count": null,
   "outputs": [],
   "source": [],
   "metadata": {
    "collapsed": false,
    "pycharm": {
     "name": "#%%\n"
    }
   }
  },
  {
   "cell_type": "code",
   "execution_count": 3,
   "id": "398b040f",
   "metadata": {
    "pycharm": {
     "name": "#%%\n"
    }
   },
   "outputs": [],
   "source": [
    "class dotdict(dict):\n",
    "    '''A dict with dot access and autocompletion.\n",
    "    \n",
    "    The idea and most of the code was taken from \n",
    "    http://stackoverflow.com/a/23689767,\n",
    "    http://code.activestate.com/recipes/52308-the-simple-but-handy-collector-of-a-bunch-of-named/\n",
    "    http://stackoverflow.com/questions/2390827/how-to-properly-subclass-dict-and-override-get-set\n",
    "    '''\n",
    "    \n",
    "    def __init__(self,*a,**kw):\n",
    "        dict.__init__(self)\n",
    "        self.update(*a, **kw)\n",
    "        self.__dict__ = self\n",
    "    \n",
    "    def __setattr__(self, key, value):\n",
    "        if key in dict.__dict__:\n",
    "            raise AttributeError('This key is reserved for the dict methods.')\n",
    "        dict.__setattr__(self, key, value)\n",
    "    \n",
    "    def __setitem__(self, key, value):\n",
    "        if key in dict.__dict__:\n",
    "            raise AttributeError('This key is reserved for the dict methods.')\n",
    "        dict.__setitem__(self, key, value)\n",
    "        \n",
    "    def update(self, *args, **kwargs):\n",
    "        for k, v in dict(*args, **kwargs).iteritems():\n",
    "            self[k] = v\n",
    "        \n",
    "    def __getstate__(self):\n",
    "        return self\n",
    " \n",
    "    def __setstate__(self, state):\n",
    "        self.update(state)\n",
    "        self.__dict__ = self"
   ]
  },
  {
   "cell_type": "code",
   "execution_count": 4,
   "id": "b52da42b",
   "metadata": {},
   "outputs": [
    {
     "ename": "AttributeError",
     "evalue": "'dict' object has no attribute 'iteritems'",
     "output_type": "error",
     "traceback": [
      "\u001B[0;31m---------------------------------------------------------------------------\u001B[0m",
      "\u001B[0;31mAttributeError\u001B[0m                            Traceback (most recent call last)",
      "Input \u001B[0;32mIn [4]\u001B[0m, in \u001B[0;36m<cell line: 1>\u001B[0;34m()\u001B[0m\n\u001B[0;32m----> 1\u001B[0m d \u001B[38;5;241m=\u001B[39m \u001B[43mdotdict\u001B[49m\u001B[43m(\u001B[49m\u001B[43m{\u001B[49m\u001B[38;5;124;43m'\u001B[39;49m\u001B[38;5;124;43mone\u001B[39;49m\u001B[38;5;124;43m'\u001B[39;49m\u001B[43m:\u001B[49m\u001B[38;5;241;43m1\u001B[39;49m\u001B[43m}\u001B[49m\u001B[43m)\u001B[49m\n",
      "Input \u001B[0;32mIn [3]\u001B[0m, in \u001B[0;36mdotdict.__init__\u001B[0;34m(self, *a, **kw)\u001B[0m\n\u001B[1;32m     10\u001B[0m \u001B[38;5;28;01mdef\u001B[39;00m \u001B[38;5;21m__init__\u001B[39m(\u001B[38;5;28mself\u001B[39m,\u001B[38;5;241m*\u001B[39ma,\u001B[38;5;241m*\u001B[39m\u001B[38;5;241m*\u001B[39mkw):\n\u001B[1;32m     11\u001B[0m     \u001B[38;5;28mdict\u001B[39m\u001B[38;5;241m.\u001B[39m\u001B[38;5;21m__init__\u001B[39m(\u001B[38;5;28mself\u001B[39m)\n\u001B[0;32m---> 12\u001B[0m     \u001B[38;5;28;43mself\u001B[39;49m\u001B[38;5;241;43m.\u001B[39;49m\u001B[43mupdate\u001B[49m\u001B[43m(\u001B[49m\u001B[38;5;241;43m*\u001B[39;49m\u001B[43ma\u001B[49m\u001B[43m,\u001B[49m\u001B[43m \u001B[49m\u001B[38;5;241;43m*\u001B[39;49m\u001B[38;5;241;43m*\u001B[39;49m\u001B[43mkw\u001B[49m\u001B[43m)\u001B[49m\n\u001B[1;32m     13\u001B[0m     \u001B[38;5;28mself\u001B[39m\u001B[38;5;241m.\u001B[39m\u001B[38;5;18m__dict__\u001B[39m \u001B[38;5;241m=\u001B[39m \u001B[38;5;28mself\u001B[39m\n",
      "Input \u001B[0;32mIn [3]\u001B[0m, in \u001B[0;36mdotdict.update\u001B[0;34m(self, *args, **kwargs)\u001B[0m\n\u001B[1;32m     25\u001B[0m \u001B[38;5;28;01mdef\u001B[39;00m \u001B[38;5;21mupdate\u001B[39m(\u001B[38;5;28mself\u001B[39m, \u001B[38;5;241m*\u001B[39margs, \u001B[38;5;241m*\u001B[39m\u001B[38;5;241m*\u001B[39mkwargs):\n\u001B[0;32m---> 26\u001B[0m     \u001B[38;5;28;01mfor\u001B[39;00m k, v \u001B[38;5;129;01min\u001B[39;00m \u001B[38;5;28;43mdict\u001B[39;49m\u001B[43m(\u001B[49m\u001B[38;5;241;43m*\u001B[39;49m\u001B[43margs\u001B[49m\u001B[43m,\u001B[49m\u001B[43m \u001B[49m\u001B[38;5;241;43m*\u001B[39;49m\u001B[38;5;241;43m*\u001B[39;49m\u001B[43mkwargs\u001B[49m\u001B[43m)\u001B[49m\u001B[38;5;241;43m.\u001B[39;49m\u001B[43miteritems\u001B[49m():\n\u001B[1;32m     27\u001B[0m         \u001B[38;5;28mself\u001B[39m[k] \u001B[38;5;241m=\u001B[39m v\n",
      "\u001B[0;31mAttributeError\u001B[0m: 'dict' object has no attribute 'iteritems'"
     ]
    }
   ],
   "source": [
    "d = dotdict({'one':1})"
   ]
  },
  {
   "cell_type": "code",
   "execution_count": null,
   "id": "4999a142",
   "metadata": {},
   "outputs": [],
   "source": []
  }
 ],
 "metadata": {
  "hide_input": false,
  "kernelspec": {
   "display_name": "rl_practice",
   "language": "python",
   "name": "rl_practice"
  },
  "language_info": {
   "codemirror_mode": {
    "name": "ipython",
    "version": 3
   },
   "file_extension": ".py",
   "mimetype": "text/x-python",
   "name": "python",
   "nbconvert_exporter": "python",
   "pygments_lexer": "ipython3",
   "version": "3.10.4"
  }
 },
 "nbformat": 4,
 "nbformat_minor": 5
}